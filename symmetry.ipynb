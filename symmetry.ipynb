{
 "cells": [
  {
   "cell_type": "code",
   "execution_count": 41,
   "id": "4adc8cf1",
   "metadata": {
    "scrolled": true
   },
   "outputs": [
    {
     "data": {
      "application/vnd.jupyter.widget-view+json": {
       "model_id": "960d2f7b8d8042b39b32d89cf729446a",
       "version_major": 2,
       "version_minor": 0
      },
      "text/plain": [
       "JsmolView(layout=Layout(align_self='stretch', height='400px'))"
      ]
     },
     "metadata": {},
     "output_type": "display_data"
    },
    {
     "name": "stdout",
     "output_type": "stream",
     "text": [
      "première symétrie :\n",
      "Rot:\n",
      "[[-1.  0.  0.]\n",
      " [ 0.  1.  0.]\n",
      " [ 0.  0. -1.]]\n",
      "tau\n",
      "[0. 0. 0.]\n",
      "__________\n",
      "deuxième symétrie :\n",
      "Rot:\n",
      "[[ 0. -1.  0.]\n",
      " [-1.  0.  0.]\n",
      " [ 0.  0.  1.]]\n",
      "tau\n",
      "[0. 0. 0.]\n",
      "__________\n",
      "troisième symétrie :\n",
      "Rot:\n",
      "[[0. 1. 0.]\n",
      " [0. 0. 1.]\n",
      " [1. 0. 0.]]\n",
      "tau\n",
      "[0. 0. 0.]\n",
      "Positions des atomes dans la maille: \n",
      "\n",
      "[PeriodicSite: Zr (3.0615, 0.0000, 0.0000) [0.5000, 0.0000, 0.0000], PeriodicSite: Zr (3.0615, 3.0615, 3.0615) [0.5000, 0.5000, 0.5000], PeriodicSite: Zr (0.0000, 0.0000, 3.0615) [0.0000, 0.0000, 0.5000], PeriodicSite: Zr (0.0000, 3.0615, 0.0000) [0.0000, 0.5000, 0.0000], PeriodicSite: Fe (1.5307, 1.5307, 4.5922) [0.2500, 0.2500, 0.7500], PeriodicSite: Fe (1.5307, 4.5922, 1.5307) [0.2500, 0.7500, 0.2500], PeriodicSite: Fe (4.5922, 1.5307, 1.5307) [0.7500, 0.2500, 0.2500], PeriodicSite: Fe (4.5922, 4.5922, 4.5922) [0.7500, 0.7500, 0.7500], PeriodicSite: Te (0.0000, 0.0000, 0.0000) [0.0000, 0.0000, 0.0000], PeriodicSite: Te (0.0000, 3.0615, 3.0615) [0.0000, 0.5000, 0.5000], PeriodicSite: Te (3.0615, 0.0000, 3.0615) [0.5000, 0.0000, 0.5000], PeriodicSite: Te (3.0615, 3.0615, 0.0000) [0.5000, 0.5000, 0.0000]]\n"
     ]
    }
   ],
   "source": [
    "from pymatgen.ext.matproj import MPRester\n",
    "from pymatgen.symmetry.analyzer import SpacegroupAnalyzer\n",
    "from pymatgen.core.operations import SymmOp\n",
    "from jupyter_jsmol.pymatgen import quick_view\n",
    "from jupyter_jsmol import JsmolView\n",
    "from ipywidgets import Layout, widgets, interact\n",
    "\n",
    "\n",
    "with MPRester(\"j1twApjMu9mGh9tITSd6\") as m:\n",
    "\n",
    "    # Structure for material id\n",
    "    structure = m.get_structure_by_material_id(\"mp-961649\")\n",
    "    \n",
    "struct = SpacegroupAnalyzer(structure)\n",
    "structure = struct.get_conventional_standard_structure()\n",
    "#récupération de la structure conventionnel qui correspond à la maille du fichier CIF symmetrized\n",
    "struct_analyze = SpacegroupAnalyzer(struct_conv)\n",
    "\n",
    "view = quick_view(structure, supercell=[2,2,2])\n",
    "display(view)\n",
    "\n",
    "# récupération des opération de symmétrie\n",
    "sym_op = struct_analyze.get_symmetry_operations()\n",
    "print(\"première symétrie :\")\n",
    "print(sym_op[6])\n",
    "print(\"__________\")\n",
    "print(\"deuxième symétrie :\")\n",
    "print(sym_op[7])\n",
    "print(\"__________\")\n",
    "print(\"troisième symétrie :\")\n",
    "print(sym_op[16])\n",
    "\n",
    "#récupération de tous les sites d'atome dans la maille cristalline\n",
    "sites = struct_conv.sites \n",
    "print(\"Positions des atomes dans la maille: \\n\")\n",
    "print(sites)\n",
    "\n"
   ]
  },
  {
   "cell_type": "markdown",
   "id": "537f72d1",
   "metadata": {},
   "source": [
    "Premier élément de symétrie\n",
    "======="
   ]
  },
  {
   "cell_type": "code",
   "execution_count": 42,
   "id": "3fe12287",
   "metadata": {
    "scrolled": true
   },
   "outputs": [
    {
     "name": "stdout",
     "output_type": "stream",
     "text": [
      "1er élément de symétrie : rotation d'ordre 2 autour de l'axe y\n",
      "Rot:\n",
      "[[-1.  0.  0.]\n",
      " [ 0.  1.  0.]\n",
      " [ 0.  0. -1.]]\n",
      "tau\n",
      "[0. 0. 0.]\n",
      "[1.530729 4.592187 1.530729] Fe\n",
      "\n",
      "Coordonnées réduites avant l'opération de symétrie :  [0.25 0.75 0.25]\n",
      "Coordonnées réduites après l'opération de symétrie : [-0.25  0.75 -0.25]\n",
      "(x y z) -> (-x y -z)\n"
     ]
    },
    {
     "data": {
      "application/vnd.jupyter.widget-view+json": {
       "model_id": "692b2710f07844a6977c8f37738e6fcf",
       "version_major": 2,
       "version_minor": 0
      },
      "text/plain": [
       "JsmolView(layout=Layout(align_self='stretch', height='400px'))"
      ]
     },
     "metadata": {},
     "output_type": "display_data"
    }
   ],
   "source": [
    "print(\"1er élément de symétrie : rotation d'ordre 2 autour de l'axe y\")\n",
    "\n",
    "op1 = sym_op[6]\n",
    "print(op1)\n",
    "fe1 = sites[5]\n",
    "print(fe1)\n",
    "\n",
    "print('')\n",
    "print(\"Coordonnées réduites avant l'opération de symétrie : \", fe1.frac_coords)\n",
    "# application de l'opérateur de symétrie\n",
    "fe1_afterop = op1.operate(fe1.frac_coords)\n",
    "print(\"Coordonnées réduites après l'opération de symétrie :\", fe1_afterop)\n",
    "print(\"(x y z) -> (-x y -z)\")\n",
    "\n",
    "#affichage avec Jsmol\n",
    "view = quick_view(structure, supercell=[1,1,1])\n",
    "display(view)\n",
    "view.script('draw SYMOP 6 {atomno=5}; select atomno=5; color red')"
   ]
  },
  {
   "cell_type": "markdown",
   "id": "c7620546",
   "metadata": {},
   "source": [
    "Deuxième élément de symétrie\n",
    "======="
   ]
  },
  {
   "cell_type": "code",
   "execution_count": 43,
   "id": "6390b44f",
   "metadata": {
    "scrolled": true
   },
   "outputs": [
    {
     "name": "stdout",
     "output_type": "stream",
     "text": [
      "2e élément de symétrie\n",
      "Rot:\n",
      "[[ 0. -1.  0.]\n",
      " [-1.  0.  0.]\n",
      " [ 0.  0.  1.]]\n",
      "tau\n",
      "[0. 0. 0.]\n",
      "[4.592187 1.530729 1.530729] Fe\n",
      "\n",
      "Coordonnées réduites avant l'opération de symétrie :  [0.75 0.25 0.25]\n",
      "Coordonnées réduites après l'opération de symétrie : [-0.25 -0.75  0.25]\n",
      "(x y z) -> (-y -x -z)\n"
     ]
    },
    {
     "data": {
      "application/vnd.jupyter.widget-view+json": {
       "model_id": "ec48ae96ff424cc682774945ed9846b5",
       "version_major": 2,
       "version_minor": 0
      },
      "text/plain": [
       "JsmolView(layout=Layout(align_self='stretch', height='400px'))"
      ]
     },
     "metadata": {},
     "output_type": "display_data"
    }
   ],
   "source": [
    "print(\"2e élément de symétrie\")\n",
    "\n",
    "op2 = sym_op[7]\n",
    "print(op2)\n",
    "fe1 = sites[6]\n",
    "print(fe1)\n",
    "\n",
    "print('')\n",
    "print(\"Coordonnées réduites avant l'opération de symétrie : \", fe1.frac_coords)\n",
    "# application de l'opérateur de symétrie\n",
    "fe1_afterop = op2.operate(fe1.frac_coords)\n",
    "print(\"Coordonnées réduites après l'opération de symétrie :\", fe1_afterop)\n",
    "print(\"(x y z) -> (-y -x -z)\")\n",
    "\n",
    "#affichage avec Jsmol\n",
    "view = quick_view(structure, supercell=[1,1,1])\n",
    "display(view)\n",
    "view.script('draw SYMOP 7 {atomno=6}; select atomno=6; color red')"
   ]
  },
  {
   "cell_type": "markdown",
   "id": "ff7bbc75",
   "metadata": {},
   "source": [
    "Troisième élément de symétrie\n",
    "======="
   ]
  },
  {
   "cell_type": "code",
   "execution_count": 44,
   "id": "ff274b98",
   "metadata": {},
   "outputs": [
    {
     "name": "stdout",
     "output_type": "stream",
     "text": [
      "3e élément de symétrie : rotation\n",
      "Rot:\n",
      "[[0. 1. 0.]\n",
      " [0. 0. 1.]\n",
      " [1. 0. 0.]]\n",
      "tau\n",
      "[0. 0. 0.]\n",
      "[0.       0.       3.061458] Zr\n",
      "\n",
      "Coordonnées réduites avant l'opération de symétrie :  [0.  0.  0.5]\n",
      "Coordonnées réduites après l'opération de symétrie : [0.  0.5 0. ]\n",
      "(x y z) -> (y z x)\n"
     ]
    },
    {
     "data": {
      "application/vnd.jupyter.widget-view+json": {
       "model_id": "c1e5a6b9ec904f499b064b83f5caa5fb",
       "version_major": 2,
       "version_minor": 0
      },
      "text/plain": [
       "JsmolView(layout=Layout(align_self='stretch', height='400px'))"
      ]
     },
     "metadata": {},
     "output_type": "display_data"
    }
   ],
   "source": [
    "print(\"3e élément de symétrie : rotation\")\n",
    "\n",
    "op3 = sym_op[16]\n",
    "print(op3)\n",
    "zr3 = sites[2]\n",
    "print(zr3)\n",
    "\n",
    "print('')\n",
    "print(\"Coordonnées réduites avant l'opération de symétrie : \", zr3.frac_coords)\n",
    "# application de l'opérateur de symétrie\n",
    "zr3_afterop = op3.operate(zr3.frac_coords)\n",
    "print(\"Coordonnées réduites après l'opération de symétrie :\", zr3_afterop)\n",
    "print(\"(x y z) -> (y z x)\")\n",
    "\n",
    "#affichage avec Jsmol\n",
    "view = quick_view(structure, supercell=[1,1,1])\n",
    "display(view)\n",
    "view.script('draw SYMOP 16 {atomno=2}; select atomno=2; color red')"
   ]
  },
  {
   "cell_type": "code",
   "execution_count": null,
   "id": "0a1b97ef",
   "metadata": {},
   "outputs": [],
   "source": []
  },
  {
   "cell_type": "code",
   "execution_count": null,
   "id": "8a08f388",
   "metadata": {},
   "outputs": [],
   "source": []
  }
 ],
 "metadata": {
  "kernelspec": {
   "display_name": "Python 3",
   "language": "python",
   "name": "python3"
  },
  "language_info": {
   "codemirror_mode": {
    "name": "ipython",
    "version": 3
   },
   "file_extension": ".py",
   "mimetype": "text/x-python",
   "name": "python",
   "nbconvert_exporter": "python",
   "pygments_lexer": "ipython3",
   "version": "3.6.8"
  }
 },
 "nbformat": 4,
 "nbformat_minor": 5
}
