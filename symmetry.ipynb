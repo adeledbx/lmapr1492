{
 "cells": [
  {
   "cell_type": "code",
   "execution_count": 28,
   "id": "4adc8cf1",
   "metadata": {
    "scrolled": true
   },
   "outputs": [
    {
     "data": {
      "application/vnd.jupyter.widget-view+json": {
       "model_id": "da0e8f3b3fbe4e169fc8a13c43d5cfe6",
       "version_major": 2,
       "version_minor": 0
      },
      "text/plain": [
       "JsmolView(layout=Layout(align_self='stretch', height='400px'))"
      ]
     },
     "metadata": {},
     "output_type": "display_data"
    },
    {
     "name": "stdout",
     "output_type": "stream",
     "text": [
      "première symétrie :\n",
      "Rot:\n",
      "[[0. 1. 0.]\n",
      " [1. 0. 0.]\n",
      " [0. 0. 1.]]\n",
      "tau\n",
      "[0. 0. 0.]\n",
      "__________\n",
      "deuxième symétrie :\n",
      "Rot:\n",
      "[[-1.  0.  0.]\n",
      " [ 0.  1.  0.]\n",
      " [ 0.  0. -1.]]\n",
      "tau\n",
      "[0. 0. 0.]\n",
      "__________\n",
      "troisième symétrie :\n",
      "Rot:\n",
      "[[0. 1. 0.]\n",
      " [0. 0. 1.]\n",
      " [1. 0. 0.]]\n",
      "tau\n",
      "[0. 0. 0.]\n",
      "Positions des atomes dans la maille: \n",
      "\n",
      "[PeriodicSite: Zr (3.0615, 0.0000, 0.0000) [0.5000, 0.0000, 0.0000], PeriodicSite: Zr (3.0615, 3.0615, 3.0615) [0.5000, 0.5000, 0.5000], PeriodicSite: Zr (0.0000, 0.0000, 3.0615) [0.0000, 0.0000, 0.5000], PeriodicSite: Zr (0.0000, 3.0615, 0.0000) [0.0000, 0.5000, 0.0000], PeriodicSite: Fe (1.5307, 1.5307, 4.5922) [0.2500, 0.2500, 0.7500], PeriodicSite: Fe (1.5307, 4.5922, 1.5307) [0.2500, 0.7500, 0.2500], PeriodicSite: Fe (4.5922, 1.5307, 1.5307) [0.7500, 0.2500, 0.2500], PeriodicSite: Fe (4.5922, 4.5922, 4.5922) [0.7500, 0.7500, 0.7500], PeriodicSite: Te (0.0000, 0.0000, 0.0000) [0.0000, 0.0000, 0.0000], PeriodicSite: Te (0.0000, 3.0615, 3.0615) [0.0000, 0.5000, 0.5000], PeriodicSite: Te (3.0615, 0.0000, 3.0615) [0.5000, 0.0000, 0.5000], PeriodicSite: Te (3.0615, 3.0615, 0.0000) [0.5000, 0.5000, 0.0000]]\n"
     ]
    }
   ],
   "source": [
    "from pymatgen.ext.matproj import MPRester\n",
    "from pymatgen.symmetry.analyzer import SpacegroupAnalyzer\n",
    "from jupyter_jsmol.pymatgen import quick_view\n",
    "with MPRester(\"j1twApjMu9mGh9tITSd6\") as m:\n",
    "\n",
    "    # Structure for material id\n",
    "    structure = m.get_structure_by_material_id(\"mp-961649\")\n",
    "    \n",
    "struct = SpacegroupAnalyzer(structure)\n",
    "struct_conv = struct.get_conventional_standard_structure()\n",
    "#récupération de la structure conventionnel qui correspond à la maille du fichier CIF symmetrized\n",
    "struct_analyze = SpacegroupAnalyzer(struct_conv)\n",
    "\n",
    "view = quick_view(structure, conventional=True, supercell=[2,2,2])\n",
    "display(view)\n",
    "\n",
    "# récupération des opération de symmétrie\n",
    "sym_op = struct_analyze.get_symmetry_operations()\n",
    "print(\"première symétrie :\")\n",
    "print(sym_op[5])\n",
    "print(\"__________\")\n",
    "print(\"deuxième symétrie :\")\n",
    "print(sym_op[6])\n",
    "print(\"__________\")\n",
    "print(\"troisième symétrie :\")\n",
    "print(sym_op[16])\n",
    "\n",
    "#récupération de tous les sites d'atome dans la maille cristalline\n",
    "sites = struct_conv.sites \n",
    "print(\"Positions des atomes dans la maille: \\n\")\n",
    "print(sites)\n",
    "\n"
   ]
  },
  {
   "cell_type": "code",
   "execution_count": 65,
   "id": "3fe12287",
   "metadata": {},
   "outputs": [
    {
     "name": "stdout",
     "output_type": "stream",
     "text": [
      "1er élément de symétrie : plan miroir m\n",
      "Rot:\n",
      "[[-1.  0.  0.]\n",
      " [ 0.  1.  0.]\n",
      " [ 0.  0. -1.]]\n",
      "tau\n",
      "[0. 0. 0.]\n",
      "[3.06145800e+00 0.00000000e+00 1.87460237e-16] Zr\n",
      "\n",
      "Coordonnées réduites avant l'opération de symétrie :  [0.5 0.  0. ]\n",
      "Coordonnées réduites après l'opération de symétrie : [-0.5  0.   0. ]\n",
      "(x y z) -> (-x y -z)\n"
     ]
    }
   ],
   "source": [
    "print(\"1er élément de symétrie : plan miroir m\")\n",
    "\n",
    "op1 = sym_op[6]\n",
    "print(op1)\n",
    "zr1 = sites[0]\n",
    "print(zr)\n",
    "\n",
    "print('')\n",
    "print(\"Coordonnées réduites avant l'opération de symétrie : \", zr1.frac_coords)\n",
    "# application de l'opérateur de symétrie\n",
    "zr1_afterop = op1.operate(zr1.frac_coords)\n",
    "print(\"Coordonnées réduites après l'opération de symétrie :\", zr1_afterop)\n",
    "print(\"(x y z) -> (-x y -z)\")\n",
    "\n",
    "#affichage avec Jsmol"
   ]
  },
  {
   "cell_type": "code",
   "execution_count": 39,
   "id": "6390b44f",
   "metadata": {},
   "outputs": [
    {
     "name": "stdout",
     "output_type": "stream",
     "text": [
      "2e élément de symétrie : rotation d'ordre 2 autour de l'axe y\n",
      "Rot:\n",
      "[[-1.  0.  0.]\n",
      " [ 0.  1.  0.]\n",
      " [ 0.  0. -1.]]\n",
      "tau\n",
      "[0. 0. 0.]\n",
      "[3.061458 3.061458 3.061458] Zr\n",
      "\n",
      "Coordonnées réduites avant l'opération de symétrie :  [0.5 0.5 0.5]\n",
      "Coordonnées réduites après l'opération de symétrie : [0.5 0.5 0.5]\n",
      "(x y z) -> (y -x -z)\n"
     ]
    }
   ],
   "source": [
    "print(\"2e élément de symétrie : rotation d'ordre 2 autour de l'axe y\")\n",
    "\n",
    "op2 = sym_op[6]\n",
    "print(op2)\n",
    "zr2 = sites[1]\n",
    "print(zr2)\n",
    "\n",
    "print('')\n",
    "print(\"Coordonnées réduites avant l'opération de symétrie : \", zr2.frac_coords)\n",
    "# application de l'opérateur de symétrie\n",
    "zr2_afterop = op1.operate(zr2.frac_coords)\n",
    "print(\"Coordonnées réduites après l'opération de symétrie :\", zr2_afterop)\n",
    "print(\"(x y z) -> (y -x -z)\")"
   ]
  },
  {
   "cell_type": "code",
   "execution_count": 40,
   "id": "ff274b98",
   "metadata": {},
   "outputs": [
    {
     "name": "stdout",
     "output_type": "stream",
     "text": [
      "3e élément de symétrie : rotation d'ordre 3\n",
      "Rot:\n",
      "[[0. 1. 0.]\n",
      " [0. 0. 1.]\n",
      " [1. 0. 0.]]\n",
      "tau\n",
      "[0. 0. 0.]\n",
      "[0.       0.       3.061458] Zr\n",
      "\n",
      "Coordonnées réduites avant l'opération de symétrie :  [0.  0.  0.5]\n",
      "Coordonnées réduites après l'opération de symétrie : [0.  0.  0.5]\n",
      "(x y z) -> (-x y -z)\n"
     ]
    }
   ],
   "source": [
    "print(\"3e élément de symétrie : rotation d'ordre 3\")\n",
    "\n",
    "op3 = sym_op[16]\n",
    "print(op3)\n",
    "zr3 = sites[2]\n",
    "print(zr3)\n",
    "\n",
    "print('')\n",
    "print(\"Coordonnées réduites avant l'opération de symétrie : \", zr3.frac_coords)\n",
    "# application de l'opérateur de symétrie\n",
    "zr3_afterop = op1.operate(zr3.frac_coords)\n",
    "print(\"Coordonnées réduites après l'opération de symétrie :\", zr3_afterop)\n",
    "print(\"(x y z) -> (y z x)\")"
   ]
  },
  {
   "cell_type": "code",
   "execution_count": null,
   "id": "0a1b97ef",
   "metadata": {},
   "outputs": [],
   "source": []
  }
 ],
 "metadata": {
  "kernelspec": {
   "display_name": "Python 3",
   "language": "python",
   "name": "python3"
  },
  "language_info": {
   "codemirror_mode": {
    "name": "ipython",
    "version": 3
   },
   "file_extension": ".py",
   "mimetype": "text/x-python",
   "name": "python",
   "nbconvert_exporter": "python",
   "pygments_lexer": "ipython3",
   "version": "3.6.8"
  }
 },
 "nbformat": 4,
 "nbformat_minor": 5
}
