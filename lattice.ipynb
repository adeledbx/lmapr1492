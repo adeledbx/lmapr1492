{
 "cells": [
  {
   "cell_type": "code",
   "execution_count": 13,
   "id": "c799ce91",
   "metadata": {},
   "outputs": [
    {
     "name": "stdout",
     "output_type": "stream",
     "text": [
      "Vecteurs de base du réseau direct :\n",
      "0.000000 3.061458 3.061458\n",
      "3.061458 0.000000 3.061458\n",
      "3.061458 3.061458 0.000000\n",
      "\n",
      "\n",
      "Vecteurs de base du réseau réciproque : \n",
      "-1.026175 1.026175 1.026175\n",
      "1.026175 -1.026175 1.026175\n",
      "1.026175 1.026175 -1.026175\n",
      "\n",
      "\n",
      "Type de maille : \n",
      "cubic\n",
      "\n",
      "\n",
      "Système cristallin : \n",
      "cubic\n",
      "\n",
      "\n",
      "Groupe ponctuel : \n",
      "-43m\n"
     ]
    }
   ],
   "source": [
    "from pymatgen.symmetry.analyzer import SpacegroupAnalyzer\n",
    "from pymatgen.ext.matproj import MPRester\n",
    "with MPRester(\"j1twApjMu9mGh9tITSd6\") as m:\n",
    "\n",
    "\n",
    "    # Structure for material id\n",
    "    struct = m.get_structure_by_material_id(\"mp-961649\")\n",
    "\n",
    "    \n",
    "#Vecteur de base réseau direct\n",
    "print(\"Vecteurs de base du réseau direct :\")\n",
    "lattice = struct.lattice\n",
    "print(lattice)\n",
    "print(\"\\n\")\n",
    "    \n",
    "\n",
    "#Vecteurs de base réseau réciproque\n",
    "print(\"Vecteurs de base du réseau réciproque : \")\n",
    "lattice_rec = struct.lattice.reciprocal_lattice\n",
    "print(lattice_rec)\n",
    "print(\"\\n\")\n",
    "\n",
    "sganalyzer = SpacegroupAnalyzer(struct)\n",
    "\n",
    "#maille\n",
    "print(\"Type de maille : \")\n",
    "lattice_type = sganalyzer.get_lattice_type()\n",
    "print(lattice_type)\n",
    "print(\"\\n\")\n",
    "\n",
    "#Système cristallin\n",
    "print(\"Système cristallin : \")\n",
    "crist_syst = sganalyzer.get_crystal_system()\n",
    "print(crist_syst)\n",
    "print(\"\\n\")\n",
    "\n",
    "#Groupe ponctuel\n",
    "print(\"Groupe ponctuel : \")\n",
    "pgroup = sganalyzer.get_point_group_symbol()\n",
    "print(pgroup)"
   ]
  },
  {
   "cell_type": "code",
   "execution_count": null,
   "id": "86e25b49",
   "metadata": {},
   "outputs": [],
   "source": []
  },
  {
   "cell_type": "code",
   "execution_count": null,
   "id": "daade338",
   "metadata": {},
   "outputs": [],
   "source": []
  }
 ],
 "metadata": {
  "kernelspec": {
   "display_name": "Python 3",
   "language": "python",
   "name": "python3"
  },
  "language_info": {
   "codemirror_mode": {
    "name": "ipython",
    "version": 3
   },
   "file_extension": ".py",
   "mimetype": "text/x-python",
   "name": "python",
   "nbconvert_exporter": "python",
   "pygments_lexer": "ipython3",
   "version": "3.6.8"
  }
 },
 "nbformat": 4,
 "nbformat_minor": 5
}
